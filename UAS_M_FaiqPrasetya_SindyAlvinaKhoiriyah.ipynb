{
  "nbformat": 4,
  "nbformat_minor": 0,
  "metadata": {
    "colab": {
      "provenance": [],
      "authorship_tag": "ABX9TyPIBHMnnbwiMRuo9RWlYLFR",
      "include_colab_link": true
    },
    "kernelspec": {
      "name": "python3",
      "display_name": "Python 3"
    },
    "language_info": {
      "name": "python"
    }
  },
  "cells": [
    {
      "cell_type": "markdown",
      "metadata": {
        "id": "view-in-github",
        "colab_type": "text"
      },
      "source": [
        "<a href=\"https://colab.research.google.com/github/sindyalvinaa/PCVK_Genap_2023/blob/main/UAS_M_FaiqPrasetya_SindyAlvinaKhoiriyah.ipynb\" target=\"_parent\"><img src=\"https://colab.research.google.com/assets/colab-badge.svg\" alt=\"Open In Colab\"/></a>"
      ]
    },
    {
      "cell_type": "markdown",
      "source": [
        "# Tugas Akhir PCVK\n",
        "\n",
        "Anggota Kelompok:\n",
        "\n",
        "*   Muhammad Faiq Prasetya - (2041720239)\n",
        "*   Sindy Alvina Khoiriyah - (2041720003)\n",
        "\n"
      ],
      "metadata": {
        "id": "Eekhyl5h8lTY"
      }
    },
    {
      "cell_type": "code",
      "execution_count": 2,
      "metadata": {
        "id": "ZUTqs-rE79CJ",
        "outputId": "4d202e8c-962f-4921-d95f-c3b293ec1502",
        "colab": {
          "base_uri": "https://localhost:8080/"
        }
      },
      "outputs": [
        {
          "output_type": "stream",
          "name": "stdout",
          "text": [
            "Mounted at /content/drive/\n"
          ]
        }
      ],
      "source": [
        "from google.colab import drive\n",
        "\n",
        "drive.mount('/content/drive/')"
      ]
    },
    {
      "cell_type": "code",
      "source": [
        "import numpy as np\n",
        "import pandas as pd\n",
        "import os\n",
        "import matplotlib.pyplot as plt\n",
        "import tensorflow as tf\n",
        "import cv2 as cv\n",
        "from google.colab.patches import cv2_imshow\n",
        "import tables\n",
        "import glob\n",
        "from random import shuffle"
      ],
      "metadata": {
        "id": "WSpqx1ga9a7p"
      },
      "execution_count": 3,
      "outputs": []
    },
    {
      "cell_type": "code",
      "source": [
        "directory = '/content/drive/MyDrive/PCVK/Images/project_uas/fish'"
      ],
      "metadata": {
        "id": "nSZ-k2KX9faG"
      },
      "execution_count": 4,
      "outputs": []
    },
    {
      "cell_type": "markdown",
      "source": [
        "## Main Code"
      ],
      "metadata": {
        "id": "XYpgtKKE9nEC"
      }
    },
    {
      "cell_type": "markdown",
      "source": [
        "### Pre-processing"
      ],
      "metadata": {
        "id": "KrIuYvYA9pDL"
      }
    },
    {
      "cell_type": "code",
      "source": [
        "shuffle_data = True  # Acak alamat sebelum disimpan\n",
        "hdf5_path = '/content/drive/MyDrive/PCVK/Images/project_uas/dataset.hdf5'\n",
        "train_path = '/content/drive/MyDrive/PCVK/Images/project_uas/fish/*/*.jpg'\n",
        "data_order = 'tf' # Pustaka berbeda menggunakan pengurutan data berbeda `tf` untuk aliran tensor.\n",
        "\n",
        "# Baca alamat dan label dari folder 'Dataset'\n",
        "addrs = glob.glob(train_path) # Menyimpan path dataset\n",
        "labels = [0 if 'non-fresh' in addr else 1 for addr in addrs]\n",
        "# Pengganti value 0 = non-fresh, 1 = fresh\n",
        "# label = ['Tidak Segar' jika 'tidak segar' di addr lain 'Segar' untuk addr di addrs]\n",
        "# Tidak berfungsi, one-hot encoding cuma bisa numeri\n",
        "\n",
        "\n",
        "print(len(addrs)) # Pengecekan address\n",
        "print(len(labels)) # Pengecekan label\n",
        "\n",
        "# Mengacak data\n",
        "if shuffle_data:\n",
        "    c = list(zip(addrs, labels))\n",
        "    shuffle(c)\n",
        "    addrs, labels = zip(*c)\n",
        "\n",
        "# Bagi data menjadi 60% train, 20% validasi, dan 20% test\n",
        "train_addrs = addrs[0:int(0.6*len(addrs))]\n",
        "train_labels = labels[0:int(0.6*len(labels))]\n",
        "\n",
        "val_addrs = addrs[int(0.6*len(addrs)):int(0.8*len(addrs))]\n",
        "val_labels = labels[int(0.6*len(addrs)):int(0.8*len(addrs))]\n",
        "\n",
        "test_addrs = addrs[int(0.8*len(addrs)):]\n",
        "test_labels = labels[int(0.8*len(labels)):]\n",
        "\n",
        "\n",
        "print('train size:', len(train_addrs))\n",
        "print('val size:', len(val_addrs))\n",
        "print('test size:', len(test_addrs))\n",
        "\n",
        "data_order = 'tf'  # 'th' untuk Theano, 'tf' untuk Tensorflow\n",
        "img_dtype = tables.UInt8Atom()  # dtype di mana gambar akan disimpan\n",
        "\n",
        "# periksa urutan data dan pilih bentuk data yang tepat untuk menyimpan gambar\n",
        "if data_order == 'th':\n",
        "    data_shape = (0, 3, 128, 128)\n",
        "elif data_order == 'tf':\n",
        "    data_shape = (0, 128, 128, 3)\n",
        "\n",
        "# buka file hdf5 dan buat array\n",
        "hdf5_file = tables.open_file(hdf5_path, mode = 'w')\n",
        "try:\n",
        "    train_storage = hdf5_file.create_earray(hdf5_file.root, 'train_img', img_dtype, shape=data_shape)\n",
        "    val_storage = hdf5_file.create_earray(hdf5_file.root, 'val_img', img_dtype, shape=data_shape)\n",
        "    test_storage = hdf5_file.create_earray(hdf5_file.root, 'test_img', img_dtype, shape=data_shape)\n",
        "\n",
        "    mean_storage = hdf5_file.create_earray(hdf5_file.root, 'train_mean', img_dtype, shape=data_shape)\n",
        "\n",
        "    # buat array label dan salin data label di dalamnya\n",
        "    hdf5_file.create_array(hdf5_file.root, 'train_labels', train_labels)\n",
        "    hdf5_file.create_array(hdf5_file.root, 'val_labels', val_labels)\n",
        "    hdf5_file.create_array(hdf5_file.root, 'test_labels', test_labels)\n",
        "\n",
        "    # array numpy untuk menyimpan rata-rata gambar\n",
        "    mean = np.zeros(data_shape[1:], np.float32)\n",
        "\n",
        "    # perulangan alamat\n",
        "    for i in range(len(train_addrs)):\n",
        "        # cetak berapa banyak gambar yang disimpan setiap 10 gambar\n",
        "        if i % 10 == 0 and i > 1:\n",
        "            print('Train data: {}/{}'.format(i, len(train_addrs)))\n",
        "\n",
        "        # baca gambar dan ubah ukurannya menjadi (128, 128)\n",
        "        # cv2 memuat gambar sebagai BGR, mengubahnya menjadi RGB\n",
        "        addr = train_addrs[i]\n",
        "        #cetak(addr)\n",
        "        img = cv.imread(addr)\n",
        "        img = cv.resize(img, (128, 128), interpolation = cv.INTER_CUBIC)\n",
        "        img = cv.cvtColor(img, cv.COLOR_BGR2RGB)\n",
        "\n",
        "        # Tambahkan pra-pemrosesan gambar\n",
        "\n",
        "        # jika urutan data adalah Theano, urutan sumbu harus berubah\n",
        "        if data_order == 'th':\n",
        "            img = np.rollaxis(img, 2)\n",
        "\n",
        "        # simpan gambar dan hitung mean\n",
        "        train_storage.append(img[None])\n",
        "        mean += img / float(len(train_labels))\n",
        "\n",
        "    # mengulang alamat validasi\n",
        "    for i in range(len(val_addrs)):\n",
        "        # cetak berapa banyak gambar yang disimpan setiap 10 gambar\n",
        "        if i % 10 == 0 and i > 1:\n",
        "            print ('Validation data: {}/{}'.format(i, len(val_addrs)))\n",
        "\n",
        "        # baca gambar dan ubah ukurannya menjadi (128, 128)\n",
        "        # cv2 memuat gambar sebagai BGR, mengubahnya menjadi RGB\n",
        "        addr = val_addrs[i]\n",
        "        img = cv.imread(addr)\n",
        "        img = cv.resize(img, (128, 128), interpolation = cv.INTER_CUBIC)\n",
        "        img = cv.cvtColor(img, cv.COLOR_BGR2RGB)\n",
        "\n",
        "        # tambahkan pra-pemrosesan gambar\n",
        "\n",
        "        # jika urutan data adalah Theano, urutan sumbu harus berubah\n",
        "        if data_order == 'th':\n",
        "            img = np.rollaxis(img, 2)\n",
        "\n",
        "        # simpan gambar\n",
        "        val_storage.append(img[None])\n",
        "\n",
        "    # mengulang alamat pengujian\n",
        "    for i in range(len(test_addrs)):\n",
        "        # cetak berapa banyak gambar yang disimpan setiap 10 gambar\n",
        "        if i % 10 == 0 and i > 1:\n",
        "            print ('Test data: {}/{}'.format(i, len(test_addrs)))\n",
        "\n",
        "        # baca gambar dan ubah ukurannya menjadi (128, 128)\n",
        "        # cv2 memuat gambar sebagai BGR, mengubahnya menjadi RGB\n",
        "        addr = test_addrs[i]\n",
        "        #cetak(addr)\n",
        "        img = cv.imread(addr)\n",
        "        img = cv.resize(img, (128, 128), interpolation = cv.INTER_CUBIC)\n",
        "        img = cv.cvtColor(img, cv.COLOR_BGR2RGB)\n",
        "\n",
        "        # tambahkan pra-pemrosesan gambar\n",
        "\n",
        "        # jika urutan data adalah Theano, urutan sumbu harus berubah\n",
        "        if data_order == 'th':\n",
        "            img = np.rollaxis(img, 2)\n",
        "\n",
        "        # simpan gambar\n",
        "        test_storage.append(img[None])\n",
        "\n",
        "    # simpan mean dan tutup file hdf5\n",
        "    mean_storage.append(mean[None])\n",
        "    print('HDF5 Done')\n",
        "finally:\n",
        "    print('In Finally')\n",
        "    hdf5_file.close()"
      ],
      "metadata": {
        "id": "yCxtez2n9ktk",
        "outputId": "c5167592-ea9a-4a13-dd64-58d3c12fa97d",
        "colab": {
          "base_uri": "https://localhost:8080/"
        }
      },
      "execution_count": 5,
      "outputs": [
        {
          "output_type": "stream",
          "name": "stdout",
          "text": [
            "40\n",
            "40\n",
            "train size: 24\n",
            "val size: 8\n",
            "test size: 8\n",
            "Train data: 10/24\n",
            "Train data: 20/24\n",
            "HDF5 Done\n",
            "In Finally\n"
          ]
        }
      ]
    },
    {
      "cell_type": "markdown",
      "source": [
        "### Model Training Menggunakan CNN"
      ],
      "metadata": {
        "id": "a_mqIE8T-CCF"
      }
    },
    {
      "cell_type": "code",
      "source": [
        "from math import ceil"
      ],
      "metadata": {
        "id": "QIYWdDPt9_g3"
      },
      "execution_count": 6,
      "outputs": []
    },
    {
      "cell_type": "code",
      "source": [
        "hdf5_path = '/content/drive/MyDrive/PCVK/Images/project_uas/dataset.hdf5'\n",
        "\n",
        "# Mengontrol apakah rata-rata akan dikurangkan dari data sebelum melatih model.\n",
        "# Jika bernilai True, maka rata-rata akan dikurangkan dari data.\n",
        "subtract_mean = True\n",
        "batch_size = 50 # Ukuran batch yang akan digunakan selama proses pelatihan.\n",
        "nb_class = 2 # Jumlah kategori yang ada dalam dataset"
      ],
      "metadata": {
        "id": "njE6Wyrw-H7s"
      },
      "execution_count": 7,
      "outputs": []
    },
    {
      "cell_type": "code",
      "source": [
        "hdf5_file = tables.open_file(hdf5_path, mode = 'r')\n",
        "\n",
        "# kurangi rata-rata pelatihan\n",
        "if subtract_mean:\n",
        "    mm = hdf5_file.root.train_mean[0]\n",
        "    mm = mm[np.newaxis, ...]\n",
        "\n",
        "# Jumlah total sampel\n",
        "\n",
        "# train data : Data gambar pelatihan\n",
        "# train label : Dat label pelatihan\n",
        "\n",
        "train_data = np.array(hdf5_file.root.train_img)\n",
        "train_label = np.array(hdf5_file.root.train_labels)\n",
        "\n",
        "# test data : Data gambar pengujian\n",
        "# test label : Data label Pengujian\n",
        "\n",
        "test_data = np.array(hdf5_file.root.test_img)\n",
        "test_label = np.array(hdf5_file.root.test_labels)\n",
        "\n",
        "# val data : Data gambar validasi\n",
        "# val label : Data label validasi\n",
        "\n",
        "val_data = np.array(hdf5_file.root.val_img)\n",
        "val_label = np.array(hdf5_file.root.val_labels)\n",
        "\n",
        "print('train data:',train_data.shape,' train_label',train_label.shape)\n",
        "print('test_data:',test_data.shape,' test_label:',test_label.shape)\n",
        "print('val_data:',val_data.shape,' val_label:',val_label.shape)"
      ],
      "metadata": {
        "id": "AKBTGXC7-Kxd",
        "outputId": "2ab30381-cf23-4abb-a0c4-490bcec5403d",
        "colab": {
          "base_uri": "https://localhost:8080/"
        }
      },
      "execution_count": 8,
      "outputs": [
        {
          "output_type": "stream",
          "name": "stdout",
          "text": [
            "train data: (24, 128, 128, 3)  train_label (24,)\n",
            "test_data: (8, 128, 128, 3)  test_label: (8,)\n",
            "val_data: (8, 128, 128, 3)  val_label: (8,)\n"
          ]
        }
      ]
    },
    {
      "cell_type": "code",
      "source": [
        "from keras.utils import np_utils\n",
        "\n",
        "# one-hot encode label\n",
        "num_classes = len(np.unique(train_label))\n",
        "train_label = np_utils.to_categorical(train_label, num_classes)\n",
        "test_label = np_utils.to_categorical(test_label, num_classes)\n",
        "val_label = np_utils.to_categorical(val_label, num_classes)\n",
        "\n",
        "# bentuk cetak set pelatihan\n",
        "print('num_classes:', num_classes)\n",
        "\n",
        "# nomor cetak gambar pelatihan, validasi, dan uji\n",
        "print(train_label.shape, 'train samples')\n",
        "print(test_label.shape, 'test samples')\n",
        "print(val_label.shape, 'validation samples')"
      ],
      "metadata": {
        "id": "KR2Dyc1B-OXj",
        "outputId": "1001543c-9656-4c22-cb43-36040b82aae6",
        "colab": {
          "base_uri": "https://localhost:8080/"
        }
      },
      "execution_count": 9,
      "outputs": [
        {
          "output_type": "stream",
          "name": "stdout",
          "text": [
            "num_classes: 2\n",
            "(24, 2) train samples\n",
            "(8, 2) test samples\n",
            "(8, 2) validation samples\n"
          ]
        }
      ]
    },
    {
      "cell_type": "code",
      "source": [
        "from keras.models import Sequential\n",
        "from keras.layers import Conv2D, MaxPooling2D, Flatten, Dense, Dropout\n",
        "\n",
        "model = Sequential()\n",
        "model.add(Conv2D(filters=16, kernel_size=2, padding='same', activation='relu',\n",
        "                        input_shape=(128, 128, 3)))\n",
        "model.add(MaxPooling2D(pool_size=2))\n",
        "model.add(Conv2D(filters=32, kernel_size=2, padding='same', activation='tanh'))\n",
        "model.add(MaxPooling2D(pool_size=2))\n",
        "model.add(Conv2D(filters=64, kernel_size=2, padding='same', activation='tanh'))\n",
        "model.add(MaxPooling2D(pool_size=2))\n",
        "model.add(Dropout(0.3))\n",
        "model.add(Flatten())\n",
        "model.add(Dense(500, activation='relu'))\n",
        "model.add(Dropout(0.4))\n",
        "model.add(Dense(2, activation='softmax'))\n",
        "\n",
        "model.summary()"
      ],
      "metadata": {
        "id": "womtoOiE-RTO",
        "outputId": "63dd15ef-d109-4655-ec92-ccba1c9853bd",
        "colab": {
          "base_uri": "https://localhost:8080/"
        }
      },
      "execution_count": 10,
      "outputs": [
        {
          "output_type": "stream",
          "name": "stdout",
          "text": [
            "Model: \"sequential\"\n",
            "_________________________________________________________________\n",
            " Layer (type)                Output Shape              Param #   \n",
            "=================================================================\n",
            " conv2d (Conv2D)             (None, 128, 128, 16)      208       \n",
            "                                                                 \n",
            " max_pooling2d (MaxPooling2D  (None, 64, 64, 16)       0         \n",
            " )                                                               \n",
            "                                                                 \n",
            " conv2d_1 (Conv2D)           (None, 64, 64, 32)        2080      \n",
            "                                                                 \n",
            " max_pooling2d_1 (MaxPooling  (None, 32, 32, 32)       0         \n",
            " 2D)                                                             \n",
            "                                                                 \n",
            " conv2d_2 (Conv2D)           (None, 32, 32, 64)        8256      \n",
            "                                                                 \n",
            " max_pooling2d_2 (MaxPooling  (None, 16, 16, 64)       0         \n",
            " 2D)                                                             \n",
            "                                                                 \n",
            " dropout (Dropout)           (None, 16, 16, 64)        0         \n",
            "                                                                 \n",
            " flatten (Flatten)           (None, 16384)             0         \n",
            "                                                                 \n",
            " dense (Dense)               (None, 500)               8192500   \n",
            "                                                                 \n",
            " dropout_1 (Dropout)         (None, 500)               0         \n",
            "                                                                 \n",
            " dense_1 (Dense)             (None, 2)                 1002      \n",
            "                                                                 \n",
            "=================================================================\n",
            "Total params: 8,204,046\n",
            "Trainable params: 8,204,046\n",
            "Non-trainable params: 0\n",
            "_________________________________________________________________\n"
          ]
        }
      ]
    },
    {
      "cell_type": "code",
      "source": [
        "# 'categorical_crossentropy' digunakan ketika kita memiliki klasifikasi multikelas dengan label yang diencode secara one-hot.\n",
        "# optimizer : memperbarui bobot model.\n",
        "# 'rmsprop' : algoritma jaringan saraf konvolusional (CNN).\n",
        "\n",
        "model.compile(loss = 'categorical_crossentropy', optimizer = 'rmsprop', metrics=['accuracy'])"
      ],
      "metadata": {
        "id": "e-8KLGSc-UlK"
      },
      "execution_count": 11,
      "outputs": []
    },
    {
      "cell_type": "code",
      "source": [
        "from keras.callbacks import ModelCheckpoint\n",
        "# ModelCheckpoint : menyimpan bobot (weights) model saat pelatihan dengan mengevaluasi kinerja model pada set data validasi.\n",
        "\n",
        "# latih modelnya\n",
        "\n",
        "# Checkpointer : mengonfigurasi pengaturan penyimpanan bobot model terbaik selama pelatihan.\n",
        "# Filepath : menentukan nama file untuk menyimpan bobot model terbaik.\n",
        "# verbose=1 : mencetak pesan saat menyimpan bobot\n",
        "# save_best_only=True : menyimpan hanya bobot terbaik berdasarkan kinerja pada set data validasi.\n",
        "\n",
        "checkpointer = ModelCheckpoint(filepath='model.weights.best.hdf5', verbose=1,\n",
        "                               save_best_only=True)\n",
        "hist = model.fit(train_data, train_label, batch_size=None, epochs=20,\n",
        "          validation_data=(val_data, val_label),callbacks=[checkpointer],\n",
        "          verbose=1, shuffle=True)"
      ],
      "metadata": {
        "id": "GJVFdNG--XwK",
        "outputId": "b106ac4b-fcac-406e-f74a-592c2d63bbca",
        "colab": {
          "base_uri": "https://localhost:8080/"
        }
      },
      "execution_count": 12,
      "outputs": [
        {
          "output_type": "stream",
          "name": "stdout",
          "text": [
            "Epoch 1/20\n",
            "1/1 [==============================] - ETA: 0s - loss: 2.1338 - accuracy: 0.4583\n",
            "Epoch 1: val_loss improved from inf to 140.48198, saving model to model.weights.best.hdf5\n",
            "1/1 [==============================] - 3s 3s/step - loss: 2.1338 - accuracy: 0.4583 - val_loss: 140.4820 - val_accuracy: 0.5000\n",
            "Epoch 2/20\n",
            "1/1 [==============================] - ETA: 0s - loss: 130.2482 - accuracy: 0.5417\n",
            "Epoch 2: val_loss improved from 140.48198 to 19.70655, saving model to model.weights.best.hdf5\n",
            "1/1 [==============================] - 1s 721ms/step - loss: 130.2482 - accuracy: 0.5417 - val_loss: 19.7066 - val_accuracy: 0.5000\n",
            "Epoch 3/20\n",
            "1/1 [==============================] - ETA: 0s - loss: 22.7588 - accuracy: 0.4583\n",
            "Epoch 3: val_loss improved from 19.70655 to 2.86040, saving model to model.weights.best.hdf5\n",
            "1/1 [==============================] - 1s 742ms/step - loss: 22.7588 - accuracy: 0.4583 - val_loss: 2.8604 - val_accuracy: 0.5000\n",
            "Epoch 4/20\n",
            "1/1 [==============================] - ETA: 0s - loss: 2.7224 - accuracy: 0.5417\n",
            "Epoch 4: val_loss did not improve from 2.86040\n",
            "1/1 [==============================] - 1s 598ms/step - loss: 2.7224 - accuracy: 0.5417 - val_loss: 6.3052 - val_accuracy: 0.5000\n",
            "Epoch 5/20\n",
            "1/1 [==============================] - ETA: 0s - loss: 7.6945 - accuracy: 0.4583\n",
            "Epoch 5: val_loss improved from 2.86040 to 0.70147, saving model to model.weights.best.hdf5\n",
            "1/1 [==============================] - 1s 1s/step - loss: 7.6945 - accuracy: 0.4583 - val_loss: 0.7015 - val_accuracy: 0.3750\n",
            "Epoch 6/20\n",
            "1/1 [==============================] - ETA: 0s - loss: 0.7398 - accuracy: 0.5417\n",
            "Epoch 6: val_loss did not improve from 0.70147\n",
            "1/1 [==============================] - 1s 1s/step - loss: 0.7398 - accuracy: 0.5417 - val_loss: 1.9728 - val_accuracy: 0.5000\n",
            "Epoch 7/20\n",
            "1/1 [==============================] - ETA: 0s - loss: 2.3833 - accuracy: 0.4167\n",
            "Epoch 7: val_loss did not improve from 0.70147\n",
            "1/1 [==============================] - 1s 1s/step - loss: 2.3833 - accuracy: 0.4167 - val_loss: 5.0161 - val_accuracy: 0.5000\n",
            "Epoch 8/20\n",
            "1/1 [==============================] - ETA: 0s - loss: 4.1097 - accuracy: 0.5417\n",
            "Epoch 8: val_loss did not improve from 0.70147\n",
            "1/1 [==============================] - 1s 1s/step - loss: 4.1097 - accuracy: 0.5417 - val_loss: 0.7751 - val_accuracy: 0.5000\n",
            "Epoch 9/20\n",
            "1/1 [==============================] - ETA: 0s - loss: 0.7650 - accuracy: 0.6250\n",
            "Epoch 9: val_loss improved from 0.70147 to 0.69457, saving model to model.weights.best.hdf5\n",
            "1/1 [==============================] - 1s 967ms/step - loss: 0.7650 - accuracy: 0.6250 - val_loss: 0.6946 - val_accuracy: 0.5000\n",
            "Epoch 10/20\n",
            "1/1 [==============================] - ETA: 0s - loss: 0.7430 - accuracy: 0.4583\n",
            "Epoch 10: val_loss did not improve from 0.69457\n",
            "1/1 [==============================] - 1s 561ms/step - loss: 0.7430 - accuracy: 0.4583 - val_loss: 0.6956 - val_accuracy: 0.5000\n",
            "Epoch 11/20\n",
            "1/1 [==============================] - ETA: 0s - loss: 0.6697 - accuracy: 0.5417\n",
            "Epoch 11: val_loss improved from 0.69457 to 0.60856, saving model to model.weights.best.hdf5\n",
            "1/1 [==============================] - 1s 770ms/step - loss: 0.6697 - accuracy: 0.5417 - val_loss: 0.6086 - val_accuracy: 0.5000\n",
            "Epoch 12/20\n",
            "1/1 [==============================] - ETA: 0s - loss: 0.5630 - accuracy: 0.7083\n",
            "Epoch 12: val_loss did not improve from 0.60856\n",
            "1/1 [==============================] - 1s 533ms/step - loss: 0.5630 - accuracy: 0.7083 - val_loss: 0.6777 - val_accuracy: 0.5000\n",
            "Epoch 13/20\n",
            "1/1 [==============================] - ETA: 0s - loss: 0.6091 - accuracy: 0.5833\n",
            "Epoch 13: val_loss did not improve from 0.60856\n",
            "1/1 [==============================] - 1s 563ms/step - loss: 0.6091 - accuracy: 0.5833 - val_loss: 0.6534 - val_accuracy: 0.5000\n",
            "Epoch 14/20\n",
            "1/1 [==============================] - ETA: 0s - loss: 0.6134 - accuracy: 0.6250\n",
            "Epoch 14: val_loss did not improve from 0.60856\n",
            "1/1 [==============================] - 1s 507ms/step - loss: 0.6134 - accuracy: 0.6250 - val_loss: 0.6201 - val_accuracy: 0.5000\n",
            "Epoch 15/20\n",
            "1/1 [==============================] - ETA: 0s - loss: 0.4960 - accuracy: 0.7917\n",
            "Epoch 15: val_loss improved from 0.60856 to 0.52188, saving model to model.weights.best.hdf5\n",
            "1/1 [==============================] - 1s 692ms/step - loss: 0.4960 - accuracy: 0.7917 - val_loss: 0.5219 - val_accuracy: 0.7500\n",
            "Epoch 16/20\n",
            "1/1 [==============================] - ETA: 0s - loss: 0.4326 - accuracy: 0.7500\n",
            "Epoch 16: val_loss did not improve from 0.52188\n",
            "1/1 [==============================] - 1s 594ms/step - loss: 0.4326 - accuracy: 0.7500 - val_loss: 0.5515 - val_accuracy: 0.7500\n",
            "Epoch 17/20\n",
            "1/1 [==============================] - ETA: 0s - loss: 0.4339 - accuracy: 0.7500\n",
            "Epoch 17: val_loss did not improve from 0.52188\n",
            "1/1 [==============================] - 1s 542ms/step - loss: 0.4339 - accuracy: 0.7500 - val_loss: 0.5774 - val_accuracy: 0.6250\n",
            "Epoch 18/20\n",
            "1/1 [==============================] - ETA: 0s - loss: 0.5174 - accuracy: 0.7083\n",
            "Epoch 18: val_loss did not improve from 0.52188\n",
            "1/1 [==============================] - 1s 548ms/step - loss: 0.5174 - accuracy: 0.7083 - val_loss: 0.6035 - val_accuracy: 0.5000\n",
            "Epoch 19/20\n",
            "1/1 [==============================] - ETA: 0s - loss: 0.5811 - accuracy: 0.6250\n",
            "Epoch 19: val_loss improved from 0.52188 to 0.50901, saving model to model.weights.best.hdf5\n",
            "1/1 [==============================] - 1s 727ms/step - loss: 0.5811 - accuracy: 0.6250 - val_loss: 0.5090 - val_accuracy: 0.7500\n",
            "Epoch 20/20\n",
            "1/1 [==============================] - ETA: 0s - loss: 0.3782 - accuracy: 0.9167\n",
            "Epoch 20: val_loss improved from 0.50901 to 0.46586, saving model to model.weights.best.hdf5\n",
            "1/1 [==============================] - 1s 717ms/step - loss: 0.3782 - accuracy: 0.9167 - val_loss: 0.4659 - val_accuracy: 0.7500\n"
          ]
        }
      ]
    },
    {
      "cell_type": "code",
      "source": [
        "model.load_weights('model.weights.best.hdf5')"
      ],
      "metadata": {
        "id": "F_vjdmXB-gQO"
      },
      "execution_count": 13,
      "outputs": []
    }
  ]
}