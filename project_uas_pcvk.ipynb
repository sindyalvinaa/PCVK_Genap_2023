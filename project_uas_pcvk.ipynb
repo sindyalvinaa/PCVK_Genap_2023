{
  "nbformat": 4,
  "nbformat_minor": 0,
  "metadata": {
    "colab": {
      "provenance": [],
      "include_colab_link": true
    },
    "kernelspec": {
      "name": "python3",
      "display_name": "Python 3"
    },
    "language_info": {
      "name": "python"
    }
  },
  "cells": [
    {
      "cell_type": "markdown",
      "metadata": {
        "id": "view-in-github",
        "colab_type": "text"
      },
      "source": [
        "<a href=\"https://colab.research.google.com/github/sindyalvinaa/PCVK_Genap_2023/blob/main/project_uas_pcvk.ipynb\" target=\"_parent\"><img src=\"https://colab.research.google.com/assets/colab-badge.svg\" alt=\"Open In Colab\"/></a>"
      ]
    },
    {
      "cell_type": "markdown",
      "source": [
        "# Tugas Akhir PCVK\n",
        "\n",
        "Anggota Kelompok:\n",
        "\n",
        "*   Muhammad Faiq Prasetya - (2041720239)\n",
        "*   Sindy Alvina Khoiriyah - (2041720003)\n",
        "\n"
      ],
      "metadata": {
        "id": "azyNtjfVSpND"
      }
    },
    {
      "cell_type": "code",
      "execution_count": null,
      "metadata": {
        "colab": {
          "base_uri": "https://localhost:8080/"
        },
        "id": "XXN3slmDrWFw",
        "outputId": "0689263d-8828-42a0-d999-df0fa1cde02d"
      },
      "outputs": [
        {
          "output_type": "stream",
          "name": "stdout",
          "text": [
            "Mounted at /content/drive/\n"
          ]
        }
      ],
      "source": [
        "from google.colab import drive\n",
        "\n",
        "drive.mount('/content/drive/')"
      ]
    },
    {
      "cell_type": "code",
      "source": [
        "import numpy as np\n",
        "import pandas as pd\n",
        "import os\n",
        "import matplotlib.pyplot as plt\n",
        "import tensorflow as tf\n",
        "import cv2 as cv\n",
        "from google.colab.patches import cv2_imshow\n",
        "import tables\n",
        "import glob\n",
        "from random import shuffle"
      ],
      "metadata": {
        "id": "UOVbrd6-7xIe"
      },
      "execution_count": null,
      "outputs": []
    },
    {
      "cell_type": "markdown",
      "source": [
        "### Pre-processing"
      ],
      "metadata": {
        "id": "TUzfBrgRqJsc"
      }
    },
    {
      "cell_type": "code",
      "source": [
        "directory = '/content/drive/MyDrive/PCVK/Images/project_uas/fish'"
      ],
      "metadata": {
        "id": "nhdYgzalAfQI"
      },
      "execution_count": null,
      "outputs": []
    },
    {
      "cell_type": "code",
      "source": [
        "shuffle_data = True  # Acak alamat sebelum disimpan\n",
        "hdf5_path = '/content/drive/MyDrive/PCVK/Images/project_uas/dataset.hdf5'\n",
        "train_path = '/content/drive/MyDrive/PCVK/Images/project_uas/fish/*/*.jpg'\n",
        "data_order = 'tf' # Pustaka berbeda menggunakan pengurutan data berbeda `tf` untuk aliran tensor.\n",
        "\n",
        "# Baca alamat dan label dari folder 'Dataset'\n",
        "addrs = glob.glob(train_path) # Menyimpan path dataset\n",
        "labels = [0 if 'non-fresh' in addr else 1 for addr in addrs]\n",
        "# Pengganti value 0 = non-fresh, 1 = fresh\n",
        "# label = ['Tidak Segar' jika 'tidak segar' di addr lain 'Segar' untuk addr di addrs]\n",
        "# Tidak berfungsi, one-hot encoding cuma bisa numeri\n",
        "\n",
        "\n",
        "print(len(addrs)) # Pengecekan address\n",
        "print(len(labels)) # Pengecekan label\n",
        "\n",
        "# Mengacak data\n",
        "if shuffle_data:\n",
        "    c = list(zip(addrs, labels))\n",
        "    shuffle(c)\n",
        "    addrs, labels = zip(*c)\n",
        "\n",
        "# Bagi data menjadi 60% train, 20% validasi, dan 20% test\n",
        "train_addrs = addrs[0:int(0.6*len(addrs))]\n",
        "train_labels = labels[0:int(0.6*len(labels))]\n",
        "\n",
        "val_addrs = addrs[int(0.6*len(addrs)):int(0.8*len(addrs))]\n",
        "val_labels = labels[int(0.6*len(addrs)):int(0.8*len(addrs))]\n",
        "\n",
        "test_addrs = addrs[int(0.8*len(addrs)):]\n",
        "test_labels = labels[int(0.8*len(labels)):]\n",
        "\n",
        "\n",
        "print('train size:', len(train_addrs))\n",
        "print('val size:', len(val_addrs))\n",
        "print('test size:', len(test_addrs))\n",
        "\n",
        "data_order = 'tf'  # 'th' untuk Theano, 'tf' untuk Tensorflow\n",
        "img_dtype = tables.UInt8Atom()  # dtype di mana gambar akan disimpan\n",
        "\n",
        "# periksa urutan data dan pilih bentuk data yang tepat untuk menyimpan gambar\n",
        "if data_order == 'th':\n",
        "    data_shape = (0, 3, 128, 128)\n",
        "elif data_order == 'tf':\n",
        "    data_shape = (0, 128, 128, 3)\n",
        "\n",
        "# buka file hdf5 dan buat array\n",
        "hdf5_file = tables.open_file(hdf5_path, mode = 'w')\n",
        "try:\n",
        "    train_storage = hdf5_file.create_earray(hdf5_file.root, 'train_img', img_dtype, shape=data_shape)\n",
        "    val_storage = hdf5_file.create_earray(hdf5_file.root, 'val_img', img_dtype, shape=data_shape)\n",
        "    test_storage = hdf5_file.create_earray(hdf5_file.root, 'test_img', img_dtype, shape=data_shape)\n",
        "\n",
        "    mean_storage = hdf5_file.create_earray(hdf5_file.root, 'train_mean', img_dtype, shape=data_shape)\n",
        "\n",
        "    # buat array label dan salin data label di dalamnya\n",
        "    hdf5_file.create_array(hdf5_file.root, 'train_labels', train_labels)\n",
        "    hdf5_file.create_array(hdf5_file.root, 'val_labels', val_labels)\n",
        "    hdf5_file.create_array(hdf5_file.root, 'test_labels', test_labels)\n",
        "\n",
        "    # array numpy untuk menyimpan rata-rata gambar\n",
        "    mean = np.zeros(data_shape[1:], np.float32)\n",
        "\n",
        "    # perulangan alamat\n",
        "    for i in range(len(train_addrs)):\n",
        "        # cetak berapa banyak gambar yang disimpan setiap 10 gambar\n",
        "        if i % 10 == 0 and i > 1:\n",
        "            print('Train data: {}/{}'.format(i, len(train_addrs)))\n",
        "\n",
        "        # baca gambar dan ubah ukurannya menjadi (128, 128)\n",
        "        # cv2 memuat gambar sebagai BGR, mengubahnya menjadi RGB\n",
        "        addr = train_addrs[i]\n",
        "        #cetak(addr)\n",
        "        img = cv.imread(addr)\n",
        "        img = cv.resize(img, (128, 128), interpolation = cv.INTER_CUBIC)\n",
        "        img = cv.cvtColor(img, cv.COLOR_BGR2RGB)\n",
        "\n",
        "        # Tambahkan pra-pemrosesan gambar\n",
        "\n",
        "        # jika urutan data adalah Theano, urutan sumbu harus berubah\n",
        "        if data_order == 'th':\n",
        "            img = np.rollaxis(img, 2)\n",
        "\n",
        "        # simpan gambar dan hitung mean\n",
        "        train_storage.append(img[None])\n",
        "        mean += img / float(len(train_labels))\n",
        "\n",
        "    # mengulang alamat validasi\n",
        "    for i in range(len(val_addrs)):\n",
        "        # cetak berapa banyak gambar yang disimpan setiap 10 gambar\n",
        "        if i % 10 == 0 and i > 1:\n",
        "            print ('Validation data: {}/{}'.format(i, len(val_addrs)))\n",
        "\n",
        "        # baca gambar dan ubah ukurannya menjadi (128, 128)\n",
        "        # cv2 memuat gambar sebagai BGR, mengubahnya menjadi RGB\n",
        "        addr = val_addrs[i]\n",
        "        img = cv.imread(addr)\n",
        "        img = cv.resize(img, (128, 128), interpolation = cv.INTER_CUBIC)\n",
        "        img = cv.cvtColor(img, cv.COLOR_BGR2RGB)\n",
        "\n",
        "        # tambahkan pra-pemrosesan gambar\n",
        "\n",
        "        # jika urutan data adalah Theano, urutan sumbu harus berubah\n",
        "        if data_order == 'th':\n",
        "            img = np.rollaxis(img, 2)\n",
        "\n",
        "        # simpan gambar\n",
        "        val_storage.append(img[None])\n",
        "\n",
        "    # mengulang alamat pengujian\n",
        "    for i in range(len(test_addrs)):\n",
        "        # cetak berapa banyak gambar yang disimpan setiap 10 gambar\n",
        "        if i % 10 == 0 and i > 1:\n",
        "            print ('Test data: {}/{}'.format(i, len(test_addrs)))\n",
        "\n",
        "        # baca gambar dan ubah ukurannya menjadi (128, 128)\n",
        "        # cv2 memuat gambar sebagai BGR, mengubahnya menjadi RGB\n",
        "        addr = test_addrs[i]\n",
        "        #cetak(addr)\n",
        "        img = cv.imread(addr)\n",
        "        img = cv.resize(img, (128, 128), interpolation = cv.INTER_CUBIC)\n",
        "        img = cv.cvtColor(img, cv.COLOR_BGR2RGB)\n",
        "\n",
        "        # tambahkan pra-pemrosesan gambar\n",
        "\n",
        "        # jika urutan data adalah Theano, urutan sumbu harus berubah\n",
        "        if data_order == 'th':\n",
        "            img = np.rollaxis(img, 2)\n",
        "\n",
        "        # simpan gambar\n",
        "        test_storage.append(img[None])\n",
        "\n",
        "    # simpan mean dan tutup file hdf5\n",
        "    mean_storage.append(mean[None])\n",
        "    print('HDF5 Done')\n",
        "finally:\n",
        "    print('In Finally')\n",
        "    hdf5_file.close()"
      ],
      "metadata": {
        "colab": {
          "base_uri": "https://localhost:8080/"
        },
        "id": "4nyKuAxJlcYV",
        "outputId": "adb2dd81-680c-47cb-e722-d5ce1227ef90"
      },
      "execution_count": null,
      "outputs": [
        {
          "output_type": "stream",
          "name": "stdout",
          "text": [
            "40\n",
            "40\n",
            "train size: 24\n",
            "val size: 8\n",
            "test size: 8\n",
            "Train data: 10/24\n",
            "Train data: 20/24\n",
            "HDF5 Done\n",
            "In Finally\n"
          ]
        }
      ]
    },
    {
      "cell_type": "markdown",
      "source": [
        "### Model Training Menggunakan CNN"
      ],
      "metadata": {
        "id": "tIxusUg51Oq7"
      }
    },
    {
      "cell_type": "code",
      "source": [
        "from math import ceil"
      ],
      "metadata": {
        "id": "1DvYtR6Bpvk6"
      },
      "execution_count": null,
      "outputs": []
    },
    {
      "cell_type": "code",
      "source": [
        "hdf5_path = '/content/drive/MyDrive/PCVK/Images/project_uas/dataset.hdf5'\n",
        "\n",
        "# Mengontrol apakah rata-rata akan dikurangkan dari data sebelum melatih model.\n",
        "# Jika bernilai True, maka rata-rata akan dikurangkan dari data.\n",
        "subtract_mean = True\n",
        "batch_size = 50 # Ukuran batch yang akan digunakan selama proses pelatihan.\n",
        "nb_class = 2 # Jumlah kategori yang ada dalam dataset"
      ],
      "metadata": {
        "id": "LvKz8AQ61mqc"
      },
      "execution_count": null,
      "outputs": []
    },
    {
      "cell_type": "code",
      "source": [
        "hdf5_file = tables.open_file(hdf5_path, mode = 'r')\n",
        "\n",
        "# kurangi rata-rata pelatihan\n",
        "if subtract_mean:\n",
        "    mm = hdf5_file.root.train_mean[0]\n",
        "    mm = mm[np.newaxis, ...]\n",
        "\n",
        "# Jumlah total sampel\n",
        "\n",
        "# train data : Data gambar pelatihan\n",
        "# train label : Dat label pelatihan\n",
        "\n",
        "train_data = np.array(hdf5_file.root.train_img)\n",
        "train_label = np.array(hdf5_file.root.train_labels)\n",
        "\n",
        "# test data : Data gambar pengujian\n",
        "# test label : Data label Pengujian\n",
        "\n",
        "test_data = np.array(hdf5_file.root.test_img)\n",
        "test_label = np.array(hdf5_file.root.test_labels)\n",
        "\n",
        "# val data : Data gambar validasi\n",
        "# val label : Data label validasi\n",
        "\n",
        "val_data = np.array(hdf5_file.root.val_img)\n",
        "val_label = np.array(hdf5_file.root.val_labels)\n",
        "\n",
        "print('train data:',train_data.shape,' train_label',train_label.shape)\n",
        "print('test_data:',test_data.shape,' test_label:',test_label.shape)\n",
        "print('val_data:',val_data.shape,' val_label:',val_label.shape)"
      ],
      "metadata": {
        "colab": {
          "base_uri": "https://localhost:8080/"
        },
        "id": "g1KvHJv514sb",
        "outputId": "98bc190b-79b9-47af-dc40-4d47cac9946e"
      },
      "execution_count": null,
      "outputs": [
        {
          "output_type": "stream",
          "name": "stdout",
          "text": [
            "train data: (24, 128, 128, 3)  train_label (24,)\n",
            "test_data: (8, 128, 128, 3)  test_label: (8,)\n",
            "val_data: (8, 128, 128, 3)  val_label: (8,)\n"
          ]
        }
      ]
    },
    {
      "cell_type": "code",
      "source": [
        "from keras.utils import np_utils\n",
        "\n",
        "# one-hot encode label\n",
        "num_classes = len(np.unique(train_label))\n",
        "train_label = np_utils.to_categorical(train_label, num_classes)\n",
        "test_label = np_utils.to_categorical(test_label, num_classes)\n",
        "val_label = np_utils.to_categorical(val_label, num_classes)\n",
        "\n",
        "# bentuk cetak set pelatihan\n",
        "print('num_classes:', num_classes)\n",
        "\n",
        "# nomor cetak gambar pelatihan, validasi, dan uji\n",
        "print(train_label.shape, 'train samples')\n",
        "print(test_label.shape, 'test samples')\n",
        "print(val_label.shape, 'validation samples')"
      ],
      "metadata": {
        "colab": {
          "base_uri": "https://localhost:8080/"
        },
        "id": "YmPw6Ihw1--w",
        "outputId": "a411f0d6-87b9-4753-fb80-f34c262e904f"
      },
      "execution_count": null,
      "outputs": [
        {
          "output_type": "stream",
          "name": "stdout",
          "text": [
            "num_classes: 2\n",
            "(24, 2) train samples\n",
            "(8, 2) test samples\n",
            "(8, 2) validation samples\n"
          ]
        }
      ]
    },
    {
      "cell_type": "code",
      "source": [
        "from keras.models import Sequential\n",
        "from keras.layers import Conv2D, MaxPooling2D, Flatten, Dense, Dropout\n",
        "\n",
        "model = Sequential()\n",
        "model.add(Conv2D(filters=16, kernel_size=2, padding='same', activation='relu',\n",
        "                        input_shape=(128, 128, 3)))\n",
        "model.add(MaxPooling2D(pool_size=2))\n",
        "model.add(Conv2D(filters=32, kernel_size=2, padding='same', activation='tanh'))\n",
        "model.add(MaxPooling2D(pool_size=2))\n",
        "model.add(Conv2D(filters=64, kernel_size=2, padding='same', activation='tanh'))\n",
        "model.add(MaxPooling2D(pool_size=2))\n",
        "model.add(Dropout(0.3))\n",
        "model.add(Flatten())\n",
        "model.add(Dense(500, activation='relu'))\n",
        "model.add(Dropout(0.4))\n",
        "model.add(Dense(2, activation='softmax'))\n",
        "\n",
        "model.summary()"
      ],
      "metadata": {
        "colab": {
          "base_uri": "https://localhost:8080/"
        },
        "id": "GbHIWnZ53tiC",
        "outputId": "d6a6c89b-102e-4527-d4c2-397cfa4a3767"
      },
      "execution_count": null,
      "outputs": [
        {
          "output_type": "stream",
          "name": "stdout",
          "text": [
            "Model: \"sequential\"\n",
            "_________________________________________________________________\n",
            " Layer (type)                Output Shape              Param #   \n",
            "=================================================================\n",
            " conv2d (Conv2D)             (None, 128, 128, 16)      208       \n",
            "                                                                 \n",
            " max_pooling2d (MaxPooling2D  (None, 64, 64, 16)       0         \n",
            " )                                                               \n",
            "                                                                 \n",
            " conv2d_1 (Conv2D)           (None, 64, 64, 32)        2080      \n",
            "                                                                 \n",
            " max_pooling2d_1 (MaxPooling  (None, 32, 32, 32)       0         \n",
            " 2D)                                                             \n",
            "                                                                 \n",
            " conv2d_2 (Conv2D)           (None, 32, 32, 64)        8256      \n",
            "                                                                 \n",
            " max_pooling2d_2 (MaxPooling  (None, 16, 16, 64)       0         \n",
            " 2D)                                                             \n",
            "                                                                 \n",
            " dropout (Dropout)           (None, 16, 16, 64)        0         \n",
            "                                                                 \n",
            " flatten (Flatten)           (None, 16384)             0         \n",
            "                                                                 \n",
            " dense (Dense)               (None, 500)               8192500   \n",
            "                                                                 \n",
            " dropout_1 (Dropout)         (None, 500)               0         \n",
            "                                                                 \n",
            " dense_1 (Dense)             (None, 2)                 1002      \n",
            "                                                                 \n",
            "=================================================================\n",
            "Total params: 8,204,046\n",
            "Trainable params: 8,204,046\n",
            "Non-trainable params: 0\n",
            "_________________________________________________________________\n"
          ]
        }
      ]
    },
    {
      "cell_type": "code",
      "source": [
        "# 'categorical_crossentropy' digunakan ketika kita memiliki klasifikasi multikelas dengan label yang diencode secara one-hot.\n",
        "# optimizer : memperbarui bobot model.\n",
        "# 'rmsprop' : algoritma jaringan saraf konvolusional (CNN).\n",
        "\n",
        "model.compile(loss = 'categorical_crossentropy', optimizer = 'rmsprop', metrics=['accuracy'])"
      ],
      "metadata": {
        "id": "uztvNYSY3wTt"
      },
      "execution_count": null,
      "outputs": []
    },
    {
      "cell_type": "code",
      "source": [
        "from keras.callbacks import ModelCheckpoint\n",
        "# ModelCheckpoint : menyimpan bobot (weights) model saat pelatihan dengan mengevaluasi kinerja model pada set data validasi.\n",
        "\n",
        "# latih modelnya\n",
        "\n",
        "# Checkpointer : mengonfigurasi pengaturan penyimpanan bobot model terbaik selama pelatihan.\n",
        "# Filepath : menentukan nama file untuk menyimpan bobot model terbaik.\n",
        "# verbose=1 : mencetak pesan saat menyimpan bobot\n",
        "# save_best_only=True : menyimpan hanya bobot terbaik berdasarkan kinerja pada set data validasi.\n",
        "\n",
        "checkpointer = ModelCheckpoint(filepath='model.weights.best.hdf5', verbose=1,\n",
        "                               save_best_only=True)\n",
        "hist = model.fit(train_data, train_label, batch_size=None, epochs=20,\n",
        "          validation_data=(val_data, val_label),callbacks=[checkpointer],\n",
        "          verbose=1, shuffle=True)"
      ],
      "metadata": {
        "colab": {
          "base_uri": "https://localhost:8080/"
        },
        "id": "CAnejD5B306y",
        "outputId": "54a798c0-bb41-4afe-9260-10ff0bd5c8cd"
      },
      "execution_count": null,
      "outputs": [
        {
          "output_type": "stream",
          "name": "stdout",
          "text": [
            "Epoch 1/20\n",
            "1/1 [==============================] - ETA: 0s - loss: 1.0297 - accuracy: 0.4583\n",
            "Epoch 1: val_loss improved from inf to 85.05428, saving model to model.weights.best.hdf5\n",
            "1/1 [==============================] - 2s 2s/step - loss: 1.0297 - accuracy: 0.4583 - val_loss: 85.0543 - val_accuracy: 0.5000\n",
            "Epoch 2/20\n",
            "1/1 [==============================] - ETA: 0s - loss: 76.6797 - accuracy: 0.5417\n",
            "Epoch 2: val_loss improved from 85.05428 to 25.14412, saving model to model.weights.best.hdf5\n",
            "1/1 [==============================] - 1s 633ms/step - loss: 76.6797 - accuracy: 0.5417 - val_loss: 25.1441 - val_accuracy: 0.5000\n",
            "Epoch 3/20\n",
            "1/1 [==============================] - ETA: 0s - loss: 29.3409 - accuracy: 0.4583\n",
            "Epoch 3: val_loss improved from 25.14412 to 0.22985, saving model to model.weights.best.hdf5\n",
            "1/1 [==============================] - 1s 577ms/step - loss: 29.3409 - accuracy: 0.4583 - val_loss: 0.2299 - val_accuracy: 0.8750\n",
            "Epoch 4/20\n",
            "1/1 [==============================] - ETA: 0s - loss: 2.5007 - accuracy: 0.5833\n",
            "Epoch 4: val_loss did not improve from 0.22985\n",
            "1/1 [==============================] - 0s 469ms/step - loss: 2.5007 - accuracy: 0.5833 - val_loss: 15.1525 - val_accuracy: 0.5000\n",
            "Epoch 5/20\n",
            "1/1 [==============================] - ETA: 0s - loss: 10.7637 - accuracy: 0.5417\n",
            "Epoch 5: val_loss did not improve from 0.22985\n",
            "1/1 [==============================] - 0s 450ms/step - loss: 10.7637 - accuracy: 0.5417 - val_loss: 17.5381 - val_accuracy: 0.5000\n",
            "Epoch 6/20\n",
            "1/1 [==============================] - ETA: 0s - loss: 17.6978 - accuracy: 0.4583\n",
            "Epoch 6: val_loss did not improve from 0.22985\n",
            "1/1 [==============================] - 0s 472ms/step - loss: 17.6978 - accuracy: 0.4583 - val_loss: 13.0414 - val_accuracy: 0.5000\n",
            "Epoch 7/20\n",
            "1/1 [==============================] - ETA: 0s - loss: 12.0417 - accuracy: 0.5417\n",
            "Epoch 7: val_loss did not improve from 0.22985\n",
            "1/1 [==============================] - 0s 467ms/step - loss: 12.0417 - accuracy: 0.5417 - val_loss: 5.9947 - val_accuracy: 0.5000\n",
            "Epoch 8/20\n",
            "1/1 [==============================] - ETA: 0s - loss: 7.8906 - accuracy: 0.5000\n",
            "Epoch 8: val_loss did not improve from 0.22985\n",
            "1/1 [==============================] - 0s 442ms/step - loss: 7.8906 - accuracy: 0.5000 - val_loss: 7.6969 - val_accuracy: 0.5000\n",
            "Epoch 9/20\n",
            "1/1 [==============================] - ETA: 0s - loss: 5.2679 - accuracy: 0.5417\n",
            "Epoch 9: val_loss did not improve from 0.22985\n",
            "1/1 [==============================] - 0s 447ms/step - loss: 5.2679 - accuracy: 0.5417 - val_loss: 0.7490 - val_accuracy: 0.6250\n",
            "Epoch 10/20\n",
            "1/1 [==============================] - ETA: 0s - loss: 2.7159 - accuracy: 0.6667\n",
            "Epoch 10: val_loss did not improve from 0.22985\n",
            "1/1 [==============================] - 0s 452ms/step - loss: 2.7159 - accuracy: 0.6667 - val_loss: 2.1030 - val_accuracy: 0.5000\n",
            "Epoch 11/20\n",
            "1/1 [==============================] - ETA: 0s - loss: 0.7792 - accuracy: 0.6250\n",
            "Epoch 11: val_loss improved from 0.22985 to 0.00708, saving model to model.weights.best.hdf5\n",
            "1/1 [==============================] - 1s 581ms/step - loss: 0.7792 - accuracy: 0.6250 - val_loss: 0.0071 - val_accuracy: 1.0000\n",
            "Epoch 12/20\n",
            "1/1 [==============================] - ETA: 0s - loss: 0.2182 - accuracy: 0.8750\n",
            "Epoch 12: val_loss improved from 0.00708 to 0.00508, saving model to model.weights.best.hdf5\n",
            "1/1 [==============================] - 1s 574ms/step - loss: 0.2182 - accuracy: 0.8750 - val_loss: 0.0051 - val_accuracy: 1.0000\n",
            "Epoch 13/20\n",
            "1/1 [==============================] - ETA: 0s - loss: 0.1737 - accuracy: 0.9167\n",
            "Epoch 13: val_loss did not improve from 0.00508\n",
            "1/1 [==============================] - 0s 465ms/step - loss: 0.1737 - accuracy: 0.9167 - val_loss: 0.1714 - val_accuracy: 0.8750\n",
            "Epoch 14/20\n",
            "1/1 [==============================] - ETA: 0s - loss: 0.2600 - accuracy: 0.9583\n",
            "Epoch 14: val_loss did not improve from 0.00508\n",
            "1/1 [==============================] - 0s 466ms/step - loss: 0.2600 - accuracy: 0.9583 - val_loss: 0.6964 - val_accuracy: 0.7500\n",
            "Epoch 15/20\n",
            "1/1 [==============================] - ETA: 0s - loss: 0.4015 - accuracy: 0.8333\n",
            "Epoch 15: val_loss improved from 0.00508 to 0.00177, saving model to model.weights.best.hdf5\n",
            "1/1 [==============================] - 1s 559ms/step - loss: 0.4015 - accuracy: 0.8333 - val_loss: 0.0018 - val_accuracy: 1.0000\n",
            "Epoch 16/20\n",
            "1/1 [==============================] - ETA: 0s - loss: 0.1242 - accuracy: 0.9583\n",
            "Epoch 16: val_loss did not improve from 0.00177\n",
            "1/1 [==============================] - 0s 468ms/step - loss: 0.1242 - accuracy: 0.9583 - val_loss: 0.0062 - val_accuracy: 1.0000\n",
            "Epoch 17/20\n",
            "1/1 [==============================] - ETA: 0s - loss: 0.4431 - accuracy: 0.8750\n",
            "Epoch 17: val_loss did not improve from 0.00177\n",
            "1/1 [==============================] - 0s 456ms/step - loss: 0.4431 - accuracy: 0.8750 - val_loss: 0.0044 - val_accuracy: 1.0000\n",
            "Epoch 18/20\n",
            "1/1 [==============================] - ETA: 0s - loss: 0.0252 - accuracy: 1.0000\n",
            "Epoch 18: val_loss did not improve from 0.00177\n",
            "1/1 [==============================] - 1s 561ms/step - loss: 0.0252 - accuracy: 1.0000 - val_loss: 0.0051 - val_accuracy: 1.0000\n",
            "Epoch 19/20\n",
            "1/1 [==============================] - ETA: 0s - loss: 0.0329 - accuracy: 1.0000\n",
            "Epoch 19: val_loss improved from 0.00177 to 0.00092, saving model to model.weights.best.hdf5\n",
            "1/1 [==============================] - 1s 1s/step - loss: 0.0329 - accuracy: 1.0000 - val_loss: 9.2023e-04 - val_accuracy: 1.0000\n",
            "Epoch 20/20\n",
            "1/1 [==============================] - ETA: 0s - loss: 0.1601 - accuracy: 0.9583\n",
            "Epoch 20: val_loss did not improve from 0.00092\n",
            "1/1 [==============================] - 1s 786ms/step - loss: 0.1601 - accuracy: 0.9583 - val_loss: 0.0468 - val_accuracy: 1.0000\n"
          ]
        }
      ]
    },
    {
      "cell_type": "code",
      "source": [
        "model.load_weights('model.weights.best.hdf5')"
      ],
      "metadata": {
        "id": "zK1Zyvfd34VW"
      },
      "execution_count": null,
      "outputs": []
    },
    {
      "cell_type": "code",
      "source": [
        "# Metode evaluate() : mengevaluasi model pada data pengujian.\n",
        "# Nilai verbose=0 : menonaktifkan tampilan progres saat evaluasi.\n",
        "\n",
        "score = model.evaluate(test_data, test_label, verbose=0)\n",
        "print('\\n', 'Test accuracy:', score[1])"
      ],
      "metadata": {
        "colab": {
          "base_uri": "https://localhost:8080/"
        },
        "id": "RMHISgUu4DDN",
        "outputId": "bf6c5f3a-a4a3-40b7-a855-515d7f2fb17a"
      },
      "execution_count": null,
      "outputs": [
        {
          "output_type": "stream",
          "name": "stdout",
          "text": [
            "\n",
            " Test accuracy: 1.0\n"
          ]
        }
      ]
    },
    {
      "cell_type": "code",
      "source": [
        "# Prediksi data uji\n",
        "predictions = model.predict(test_data)\n",
        "\n",
        "# Ubah prediksi menjadi label kelas\n",
        "predicted_label = np.argmax(predictions, axis=1)\n",
        "\n",
        "# Membentuk kembali array test_label dan predict_labels menjadi 1 dimensi\n",
        "test_label = np.reshape(test_label, (-1,))\n",
        "predicted_label = np.reshape(predicted_label, (-1,))\n",
        "\n",
        "# Cek panjang test label & predict_label\n",
        "# Lengthnya beda, jadi gak bisa dimasukin ke df tanpa dimodifikasi\n",
        "# cetak(len(label_tes))\n",
        "# cetak(len(label_prediksi))\n",
        "\n",
        "# Buat DataFrame untuk menyimpan hasil klasifikasi\n",
        "classification_results = pd.DataFrame(\n",
        "    {'Original Label': test_label[:len(predicted_label)],\n",
        "     'Predicted Label': predicted_label})\n",
        "# Note: test_label[:len(predicted_label)] berfungsi biar lengthnya sama.\n",
        "\n",
        "# Tambahkan kolom hasil prediksi\n",
        "classification_results['Result'] = np.where(\n",
        "    classification_results['Original Label'] == classification_results['Predicted Label'], True, False)\n",
        "# Referensi np.where()\n",
        "# https://www.dataquest.io/blog/tutorial-add-column-pandas-dataframe-based-on-if-else-condition/\n",
        "\n",
        "# Tambahkan kolom gambar\n",
        "classification_results['Image'] = test_addrs\n",
        "\n",
        "# Tampilkan tabel hasil klasifikasi dengan gambar\n",
        "pd.set_option('display.max_colwidth', None)  # Untuk menampilkan jalur gambar lengkap\n",
        "pd.options.display.width = None  # Untuk menampilkan DataFrame lengkap\n",
        "display(classification_results[['Image',\n",
        "                                'Original Label',\n",
        "                                'Predicted Label',\n",
        "                                'Result']])\n",
        "\n",
        "# Note:\n",
        "# Gambar dimasukkan secara manual ke laporan, address image buat referensi"
      ],
      "metadata": {
        "id": "NvxzusG7AV-T",
        "colab": {
          "base_uri": "https://localhost:8080/",
          "height": 318
        },
        "outputId": "699b22fd-aa73-4934-debb-1bddca09a7c2"
      },
      "execution_count": null,
      "outputs": [
        {
          "output_type": "stream",
          "name": "stdout",
          "text": [
            "1/1 [==============================] - 0s 199ms/step\n"
          ]
        },
        {
          "output_type": "display_data",
          "data": {
            "text/plain": [
              "                                                                               Image  \\\n",
              "0      /content/drive/MyDrive/PCVK/Images/project_uas/fish/fresh/20200517_084411.jpg   \n",
              "1      /content/drive/MyDrive/PCVK/Images/project_uas/fish/fresh/20200517_085301.jpg   \n",
              "2      /content/drive/MyDrive/PCVK/Images/project_uas/fish/fresh/20200517_084015.jpg   \n",
              "3      /content/drive/MyDrive/PCVK/Images/project_uas/fish/fresh/20200517_085236.jpg   \n",
              "4  /content/drive/MyDrive/PCVK/Images/project_uas/fish/non-fresh/20200517_145909.jpg   \n",
              "5  /content/drive/MyDrive/PCVK/Images/project_uas/fish/non-fresh/20200517_145351.jpg   \n",
              "6  /content/drive/MyDrive/PCVK/Images/project_uas/fish/non-fresh/20200517_145826.jpg   \n",
              "7      /content/drive/MyDrive/PCVK/Images/project_uas/fish/fresh/20200517_084906.jpg   \n",
              "\n",
              "   Original Label  Predicted Label  Result  \n",
              "0             0.0                1   False  \n",
              "1             1.0                1    True  \n",
              "2             0.0                1   False  \n",
              "3             1.0                1    True  \n",
              "4             0.0                0    True  \n",
              "5             1.0                0   False  \n",
              "6             0.0                0    True  \n",
              "7             1.0                1    True  "
            ],
            "text/html": [
              "\n",
              "  <div id=\"df-2dfd5ad7-f9d2-42ab-8017-ca50ee9714d1\">\n",
              "    <div class=\"colab-df-container\">\n",
              "      <div>\n",
              "<style scoped>\n",
              "    .dataframe tbody tr th:only-of-type {\n",
              "        vertical-align: middle;\n",
              "    }\n",
              "\n",
              "    .dataframe tbody tr th {\n",
              "        vertical-align: top;\n",
              "    }\n",
              "\n",
              "    .dataframe thead th {\n",
              "        text-align: right;\n",
              "    }\n",
              "</style>\n",
              "<table border=\"1\" class=\"dataframe\">\n",
              "  <thead>\n",
              "    <tr style=\"text-align: right;\">\n",
              "      <th></th>\n",
              "      <th>Image</th>\n",
              "      <th>Original Label</th>\n",
              "      <th>Predicted Label</th>\n",
              "      <th>Result</th>\n",
              "    </tr>\n",
              "  </thead>\n",
              "  <tbody>\n",
              "    <tr>\n",
              "      <th>0</th>\n",
              "      <td>/content/drive/MyDrive/PCVK/Images/project_uas/fish/fresh/20200517_084411.jpg</td>\n",
              "      <td>0.0</td>\n",
              "      <td>1</td>\n",
              "      <td>False</td>\n",
              "    </tr>\n",
              "    <tr>\n",
              "      <th>1</th>\n",
              "      <td>/content/drive/MyDrive/PCVK/Images/project_uas/fish/fresh/20200517_085301.jpg</td>\n",
              "      <td>1.0</td>\n",
              "      <td>1</td>\n",
              "      <td>True</td>\n",
              "    </tr>\n",
              "    <tr>\n",
              "      <th>2</th>\n",
              "      <td>/content/drive/MyDrive/PCVK/Images/project_uas/fish/fresh/20200517_084015.jpg</td>\n",
              "      <td>0.0</td>\n",
              "      <td>1</td>\n",
              "      <td>False</td>\n",
              "    </tr>\n",
              "    <tr>\n",
              "      <th>3</th>\n",
              "      <td>/content/drive/MyDrive/PCVK/Images/project_uas/fish/fresh/20200517_085236.jpg</td>\n",
              "      <td>1.0</td>\n",
              "      <td>1</td>\n",
              "      <td>True</td>\n",
              "    </tr>\n",
              "    <tr>\n",
              "      <th>4</th>\n",
              "      <td>/content/drive/MyDrive/PCVK/Images/project_uas/fish/non-fresh/20200517_145909.jpg</td>\n",
              "      <td>0.0</td>\n",
              "      <td>0</td>\n",
              "      <td>True</td>\n",
              "    </tr>\n",
              "    <tr>\n",
              "      <th>5</th>\n",
              "      <td>/content/drive/MyDrive/PCVK/Images/project_uas/fish/non-fresh/20200517_145351.jpg</td>\n",
              "      <td>1.0</td>\n",
              "      <td>0</td>\n",
              "      <td>False</td>\n",
              "    </tr>\n",
              "    <tr>\n",
              "      <th>6</th>\n",
              "      <td>/content/drive/MyDrive/PCVK/Images/project_uas/fish/non-fresh/20200517_145826.jpg</td>\n",
              "      <td>0.0</td>\n",
              "      <td>0</td>\n",
              "      <td>True</td>\n",
              "    </tr>\n",
              "    <tr>\n",
              "      <th>7</th>\n",
              "      <td>/content/drive/MyDrive/PCVK/Images/project_uas/fish/fresh/20200517_084906.jpg</td>\n",
              "      <td>1.0</td>\n",
              "      <td>1</td>\n",
              "      <td>True</td>\n",
              "    </tr>\n",
              "  </tbody>\n",
              "</table>\n",
              "</div>\n",
              "      <button class=\"colab-df-convert\" onclick=\"convertToInteractive('df-2dfd5ad7-f9d2-42ab-8017-ca50ee9714d1')\"\n",
              "              title=\"Convert this dataframe to an interactive table.\"\n",
              "              style=\"display:none;\">\n",
              "        \n",
              "  <svg xmlns=\"http://www.w3.org/2000/svg\" height=\"24px\"viewBox=\"0 0 24 24\"\n",
              "       width=\"24px\">\n",
              "    <path d=\"M0 0h24v24H0V0z\" fill=\"none\"/>\n",
              "    <path d=\"M18.56 5.44l.94 2.06.94-2.06 2.06-.94-2.06-.94-.94-2.06-.94 2.06-2.06.94zm-11 1L8.5 8.5l.94-2.06 2.06-.94-2.06-.94L8.5 2.5l-.94 2.06-2.06.94zm10 10l.94 2.06.94-2.06 2.06-.94-2.06-.94-.94-2.06-.94 2.06-2.06.94z\"/><path d=\"M17.41 7.96l-1.37-1.37c-.4-.4-.92-.59-1.43-.59-.52 0-1.04.2-1.43.59L10.3 9.45l-7.72 7.72c-.78.78-.78 2.05 0 2.83L4 21.41c.39.39.9.59 1.41.59.51 0 1.02-.2 1.41-.59l7.78-7.78 2.81-2.81c.8-.78.8-2.07 0-2.86zM5.41 20L4 18.59l7.72-7.72 1.47 1.35L5.41 20z\"/>\n",
              "  </svg>\n",
              "      </button>\n",
              "      \n",
              "  <style>\n",
              "    .colab-df-container {\n",
              "      display:flex;\n",
              "      flex-wrap:wrap;\n",
              "      gap: 12px;\n",
              "    }\n",
              "\n",
              "    .colab-df-convert {\n",
              "      background-color: #E8F0FE;\n",
              "      border: none;\n",
              "      border-radius: 50%;\n",
              "      cursor: pointer;\n",
              "      display: none;\n",
              "      fill: #1967D2;\n",
              "      height: 32px;\n",
              "      padding: 0 0 0 0;\n",
              "      width: 32px;\n",
              "    }\n",
              "\n",
              "    .colab-df-convert:hover {\n",
              "      background-color: #E2EBFA;\n",
              "      box-shadow: 0px 1px 2px rgba(60, 64, 67, 0.3), 0px 1px 3px 1px rgba(60, 64, 67, 0.15);\n",
              "      fill: #174EA6;\n",
              "    }\n",
              "\n",
              "    [theme=dark] .colab-df-convert {\n",
              "      background-color: #3B4455;\n",
              "      fill: #D2E3FC;\n",
              "    }\n",
              "\n",
              "    [theme=dark] .colab-df-convert:hover {\n",
              "      background-color: #434B5C;\n",
              "      box-shadow: 0px 1px 3px 1px rgba(0, 0, 0, 0.15);\n",
              "      filter: drop-shadow(0px 1px 2px rgba(0, 0, 0, 0.3));\n",
              "      fill: #FFFFFF;\n",
              "    }\n",
              "  </style>\n",
              "\n",
              "      <script>\n",
              "        const buttonEl =\n",
              "          document.querySelector('#df-2dfd5ad7-f9d2-42ab-8017-ca50ee9714d1 button.colab-df-convert');\n",
              "        buttonEl.style.display =\n",
              "          google.colab.kernel.accessAllowed ? 'block' : 'none';\n",
              "\n",
              "        async function convertToInteractive(key) {\n",
              "          const element = document.querySelector('#df-2dfd5ad7-f9d2-42ab-8017-ca50ee9714d1');\n",
              "          const dataTable =\n",
              "            await google.colab.kernel.invokeFunction('convertToInteractive',\n",
              "                                                     [key], {});\n",
              "          if (!dataTable) return;\n",
              "\n",
              "          const docLinkHtml = 'Like what you see? Visit the ' +\n",
              "            '<a target=\"_blank\" href=https://colab.research.google.com/notebooks/data_table.ipynb>data table notebook</a>'\n",
              "            + ' to learn more about interactive tables.';\n",
              "          element.innerHTML = '';\n",
              "          dataTable['output_type'] = 'display_data';\n",
              "          await google.colab.output.renderOutput(dataTable, element);\n",
              "          const docLink = document.createElement('div');\n",
              "          docLink.innerHTML = docLinkHtml;\n",
              "          element.appendChild(docLink);\n",
              "        }\n",
              "      </script>\n",
              "    </div>\n",
              "  </div>\n",
              "  "
            ]
          },
          "metadata": {}
        }
      ]
    }
  ]
}