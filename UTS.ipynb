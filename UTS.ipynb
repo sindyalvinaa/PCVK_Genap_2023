{
  "nbformat": 4,
  "nbformat_minor": 0,
  "metadata": {
    "colab": {
      "provenance": [],
      "authorship_tag": "ABX9TyNqoGg31y9/tL6AgrEnitDQ",
      "include_colab_link": true
    },
    "kernelspec": {
      "name": "python3",
      "display_name": "Python 3"
    },
    "language_info": {
      "name": "python"
    }
  },
  "cells": [
    {
      "cell_type": "markdown",
      "metadata": {
        "id": "view-in-github",
        "colab_type": "text"
      },
      "source": [
        "<a href=\"https://colab.research.google.com/github/sindyalvinaa/PCVK_Genap_2023/blob/main/UTS.ipynb\" target=\"_parent\"><img src=\"https://colab.research.google.com/assets/colab-badge.svg\" alt=\"Open In Colab\"/></a>"
      ]
    },
    {
      "cell_type": "markdown",
      "source": [
        "#**AKSES GOOGLE DRIVE**"
      ],
      "metadata": {
        "id": "ICf0BO3yo1Zp"
      }
    },
    {
      "cell_type": "code",
      "execution_count": 1,
      "metadata": {
        "colab": {
          "base_uri": "https://localhost:8080/"
        },
        "id": "xUH3pfMJRsyA",
        "outputId": "d80dfd94-07d3-497b-f020-c6368c0d53ca"
      },
      "outputs": [
        {
          "output_type": "stream",
          "name": "stdout",
          "text": [
            "Mounted at /content/drive\n"
          ]
        }
      ],
      "source": [
        "from google.colab import drive\n",
        "# Mengakses Google Drive\n",
        "drive.mount('/content/drive')"
      ]
    },
    {
      "cell_type": "markdown",
      "source": [
        "#**LIBRARY**"
      ],
      "metadata": {
        "id": "wYCTi0gDpFd7"
      }
    },
    {
      "cell_type": "code",
      "source": [],
      "metadata": {
        "id": "k89iu_RqpDvd"
      },
      "execution_count": null,
      "outputs": []
    }
  ]
}